{
 "cells": [
  {
   "cell_type": "markdown",
   "metadata": {},
   "source": [
    "# Import Library"
   ]
  },
  {
   "cell_type": "code",
   "execution_count": 7,
   "metadata": {},
   "outputs": [
    {
     "data": {
      "text/plain": [
       "30"
      ]
     },
     "execution_count": 7,
     "metadata": {},
     "output_type": "execute_result"
    }
   ],
   "source": [
    "import sklearn\n",
    "from sklearn import datasets\n",
    "\n",
    "#load dataset iris\n",
    "iris = datasets.load_iris()\n",
    "\n",
    "#pisahkan atribut x or y\n",
    "x = iris.data\n",
    "y = iris.target\n",
    "\n",
    "#melakukan training dan testing \n",
    "from sklearn.model_selection import train_test_split\n",
    "'''\n",
    "Train_test_split mengembalikan 4 nilai yaitu, atribut dari train set,\n",
    "atribut dari test set, target dari train set, dan target dari test set.\n",
    "'''\n",
    "x_train,x_test,y_train,y_test = train_test_split(x,y,test_size=0.2, random_state=1)\n",
    "# print(\"atribut data train set:  \")\n",
    "# print(x_train)\n",
    "# print(\"target dari train set:  \")\n",
    "# print(y_train)\n",
    "# print(\"atribut data test set:  \")\n",
    "# print(x_test)\n",
    "# print(\"target dari test set:  \")\n",
    "# print(y_test)\n",
    "\n",
    "#cek panjang/jumlah dataset\n",
    "len(x_train)\n",
    "len(x_test)"
   ]
  }
 ],
 "metadata": {
  "kernelspec": {
   "display_name": "Python 3",
   "language": "python",
   "name": "python3"
  },
  "language_info": {
   "codemirror_mode": {
    "name": "ipython",
    "version": 3
   },
   "file_extension": ".py",
   "mimetype": "text/x-python",
   "name": "python",
   "nbconvert_exporter": "python",
   "pygments_lexer": "ipython3",
   "version": "3.12.0"
  }
 },
 "nbformat": 4,
 "nbformat_minor": 2
}
