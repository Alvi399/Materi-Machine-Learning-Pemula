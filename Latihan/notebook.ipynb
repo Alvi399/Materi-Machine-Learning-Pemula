{
 "cells": [
  {
   "cell_type": "code",
   "execution_count": 6,
   "metadata": {},
   "outputs": [],
   "source": [
    "from sklearn.preprocessing import MinMaxScaler\n",
    "from sklearn import preprocessing\n"
   ]
  },
  {
   "cell_type": "markdown",
   "metadata": {},
   "source": [
    "# Data Preparation"
   ]
  },
  {
   "cell_type": "code",
   "execution_count": 4,
   "metadata": {},
   "outputs": [
    {
     "name": "stdout",
     "output_type": "stream",
     "text": [
      "[[0.25806452 0.45454545]\n",
      " [1.         1.        ]\n",
      " [0.         0.        ]\n",
      " [0.08064516 0.13636364]\n",
      " [0.16129032 0.27272727]]\n"
     ]
    }
   ],
   "source": [
    "scaler = MinMaxScaler()\n",
    "data = [[12000000, 33], [35000000, 45], [4000000, 23], [6500000, 26], [9000000, 29]]\n",
    "scaler.fit(data)\n",
    "print(scaler.transform(data))"
   ]
  },
  {
   "cell_type": "code",
   "execution_count": 7,
   "metadata": {},
   "outputs": [
    {
     "data": {
      "text/plain": [
       "array([[-0.11638732,  0.23521877],\n",
       "       [ 1.94277296,  1.80334389],\n",
       "       [-0.83261698, -1.07155217],\n",
       "       [-0.60879521, -0.67952089],\n",
       "       [-0.38497344, -0.28748961]])"
      ]
     },
     "execution_count": 7,
     "metadata": {},
     "output_type": "execute_result"
    }
   ],
   "source": [
    "\n",
    "scaler = preprocessing.StandardScaler().fit(data)\n",
    "data = scaler.transform(data)\n",
    "data"
   ]
  },
  {
   "cell_type": "markdown",
   "metadata": {},
   "source": [
    "# Machine learning Pemula "
   ]
  },
  {
   "cell_type": "code",
   "execution_count": 13,
   "metadata": {},
   "outputs": [
    {
     "name": "stdout",
     "output_type": "stream",
     "text": [
      "randaom_state yang ditentukan\n",
      "[8, 1, 5]\n",
      "[8, 1, 5]\n",
      "[8, 1, 5]\n",
      "random_state yang tidak ditentukan\n",
      "[6, 4, 3]\n",
      "[6, 9, 2]\n",
      "[1, 5, 9]\n"
     ]
    }
   ],
   "source": [
    "from sklearn.model_selection import train_test_split\n",
    "\n",
    "X_data = range(10)\n",
    "Y_data = range(10)\n",
    "\n",
    "print(\"randaom_state yang ditentukan\")\n",
    "for i  in range(3):\n",
    "    X_train,X_test,y_train,y_test = train_test_split(X_data,Y_data,test_size=0.3,random_state=42)\n",
    "    print(y_test)\n",
    "\n",
    "print(\"random_state yang tidak ditentukan\")\n",
    "for i  in range(3):\n",
    "    X_train,X_test,y_train,y_test = train_test_split(X_data,Y_data,test_size=0.3,random_state=None)\n",
    "    print(y_test)\n"
   ]
  },
  {
   "cell_type": "markdown",
   "metadata": {},
   "source": [
    "# Pendahuluan Supervised learning And Unsupervised learning"
   ]
  },
  {
   "cell_type": "code",
   "execution_count": null,
   "metadata": {},
   "outputs": [],
   "source": [
    "'''\n",
    "Pada tahun 2016 seorang ilmuwan AI Yann LeCun memperkenalkan “cake analogy”, sebuah analogi tentang machine learning yang dikenal luas hingga saat ini. \n",
    "Beliau menyatakan bahwa: “If intelligence is a cake, the bulk of the cake is unsupervised learning, the icing on the cake is supervised learning, and the cherry on the cake is reinforcement learning (RL).” \n",
    "Dalam Bahasa Indonesia, analogi ini artinya: “\n",
    "Jika sistem kecerdasan adalah sebuah kue, \n",
    "unsupervised learning akan menjadi kuenya, \n",
    "supervised learning adalah lapisan gula pada kue,\n",
    "sdan reinforcement learning akan menjadi buah cherry pada kue”. \n",
    "'''"
   ]
  },
  {
   "cell_type": "markdown",
   "metadata": {},
   "source": [
    "# Supervised lerning"
   ]
  },
  {
   "cell_type": "code",
   "execution_count": null,
   "metadata": {},
   "outputs": [],
   "source": [
    "'''\n",
    "Pada supervised learning kita melatih sekumpulan data yang memiliki label. \n",
    "Label adalah pengenal dari sebuah data. Misal buah A memiliki atribut atau fitur berwarna hijau, bentuknya bulat, dan ukurannya sebesar bola sepak. \n",
    "Buah B atributnya berwarna kuning, bentuknya agak memanjang, dan besarnya segenggaman tangan. Buah yang memiliki atribut seperti yang disebutkan pada buah A dikenali sebagai semangka, \n",
    "sedangkan buah dengan atribut seperti disebutkan pada buah B dikenal sebagai pisang. \n",
    "Maka label dari buah A adalah semangka dan label buah B adalah p'''"
   ]
  },
  {
   "cell_type": "markdown",
   "metadata": {},
   "source": [
    "# Supervised learning: Classifiction"
   ]
  },
  {
   "cell_type": "code",
   "execution_count": 1,
   "metadata": {},
   "outputs": [
    {
     "data": {
      "text/plain": [
       "'\\n1.  Binary Classification\\n2.  Multiclass Classification\\n3. Decisson tree\\n'"
      ]
     },
     "execution_count": 1,
     "metadata": {},
     "output_type": "execute_result"
    }
   ],
   "source": [
    "'''\n",
    "1.  Binary Classification\n",
    "2.  Multiclass Classification\n",
    "3.  Decisson tree\n",
    "'''"
   ]
  },
  {
   "cell_type": "markdown",
   "metadata": {},
   "source": [
    "# Supervised Learning: Regression"
   ]
  },
  {
   "cell_type": "code",
   "execution_count": null,
   "metadata": {},
   "outputs": [],
   "source": [
    "'''\n",
    "Jenis kategori selanjutnya adalah regression. \n",
    "Submodul sebelumnya telah membahas sekelumit tentang regresi. \n",
    "Regresi adalah salah satu teknik ML yang mirip dengan klasifikasi. \n",
    "Bedanya pada klasifikasi, sebuah model ML memprediksi sebuah kelas, sedangkan model regresi memprediksi bilangan kontinu. \n",
    "Bilangan kontinu adalah bilangan numerik.\n",
    "'''\n",
    "\n",
    "#Liner regression \n",
    "'''\n",
    "Regresi linier adalah salah satu metode supervised yang masuk dalam golongan regression, sesuai namanya. \n",
    "Contoh paling terkenal dari regresi linier adalah memperkirakan harga rumah berdasarkan fitur yang terdapat pada rumah seperti luas rumah, jumlah kamar tidur, lokasi dan sebagainya. Ini adalah model paling sederhana yang perlu diketahui guna memahami metode machine learning lain yang lebih kompleks. Regresi linier cocok dipakai ketika terdapat hubungan linear pada data. \n",
    "Namun untuk implementasi pada kebanyakan kasus, ia kurang direkomendasikan.\n",
    "Sebabnya, regresi linier selalu mengasumsikan ada hubungan linier pada data, padahal tidak.  \n",
    "'''\n",
    "#Logistic Regression\n",
    "'''\n",
    "Sesuai namanya, logistic regression menggunakan fungsi logistik seperti di bawah untuk menghitung probabilitas kelas dari sebuah sampel. \n",
    "Contohnya sebuah email memiliki probabilitas 78% merupakan spam maka email tersebut termasuk dalam kelas spam. \n",
    "Dan jika sebuah email memiliki <50% probabilitas merupakan spam, maka email tersebut diklasifikasikan bukan spam.\n",
    "'''"
   ]
  },
  {
   "cell_type": "markdown",
   "metadata": {},
   "source": [
    "# Unsupervised Learning"
   ]
  },
  {
   "cell_type": "code",
   "execution_count": null,
   "metadata": {},
   "outputs": [],
   "source": [
    "'''\n",
    "Setelah kita memberikan sekumpulan data tanpa label, model machine learning akan mempelajari pola \n",
    "dan struktur pada data berdasarkan hubungan atau keterkaitan antar variabel pada data. \n",
    "Model kemudian akan mengelompokkan data ini ke dalam beberapa klaster yang berbeda. \n",
    "Teknik ini disebut sebagai clustering. \n",
    "'''"
   ]
  },
  {
   "cell_type": "markdown",
   "metadata": {},
   "source": [
    "# Unsupervised Learning: Clustering "
   ]
  },
  {
   "cell_type": "code",
   "execution_count": null,
   "metadata": {},
   "outputs": [],
   "source": [
    "'''\n",
    "Klaster (cluster) adalah sebuah grup yang memiliki kemiripan tertentu. \n",
    "Pengklasteran adalah sebuah metode machine learning unsupervised untuk mengelompokkan \n",
    "objek-objek yang memiliki kemiripan, ke dalam sebuah klaster. \n",
    "Karena termasuk kategori unsupervised, maka dataset yang digunakan model clustering tidak memiliki label.\n",
    "'''"
   ]
  },
  {
   "cell_type": "markdown",
   "metadata": {},
   "source": [
    "# Unsupervised Learning: K-Means Clustering"
   ]
  },
  {
   "cell_type": "code",
   "execution_count": null,
   "metadata": {},
   "outputs": [],
   "source": [
    "'''\n",
    "K-Means Clustering adalah metode yang digunakan untuk mengelompokkan data berdasarkan kesamaan karakteristik. \n",
    "Metode ini bekerja dengan memilih centroid secara acak, memasukkan setiap sampel ke dalam klaster terdekat, \n",
    "menghitung rata-rata setiap klaster, \n",
    "dan mengulangi langkah-langkah tersebut hingga tidak ada perubahan centroid. \n",
    "Metode Elbow dapat digunakan untuk menentukan jumlah klaster yang optimal dalam K-Means.\n",
    "'''"
   ]
  },
  {
   "cell_type": "markdown",
   "metadata": {},
   "source": [
    "# Recomndation"
   ]
  },
  {
   "cell_type": "code",
   "execution_count": null,
   "metadata": {},
   "outputs": [],
   "source": [
    "'''\n",
    "Rekomendasi atau sistem rekomendasi adalah salah satu implementasi machine learning yang kita pakai hampir setiap hari. \n",
    "Contohnya pada saat kita belanja daring, terdapat jutaan pilihan produk pada platform tersebut. \n",
    "Akan membuang banyak waktu jika kita harus melihat semua opsi tersebut.\n",
    "Sistem rekomendasi memiliki peran penting untuk membantu kita menemukan produk yang benar-benar kita cari.\n",
    "'''"
   ]
  },
  {
   "cell_type": "markdown",
   "metadata": {},
   "source": [
    "# Dimensionality Reduction : LDA, PCA, t-SNE"
   ]
  },
  {
   "cell_type": "code",
   "execution_count": null,
   "metadata": {},
   "outputs": [],
   "source": [
    "'''\n",
    "PCA bekerja dengan menghitung variance dari tiap atribut. Variance adalah informasi yang dimiliki sebuah atribut. \n",
    "Misal pada dataset rumah, atribut jumlah kamar memiliki variance atau informasi sebesar 92% dan warna rumah memiliki variance/informasi sebesar 4% tentang harga rumah terkait. Dari hasil perhitungan variance, atribut warna rumah dapat dibuang dari dataset\n",
    "karena tidak memiliki informasi yang cukup signifikan ketika kita ingin mempercepat pelatihan sebuah model.\n",
    "\n",
    "Pada kedua gambar diatas, tampak bahwa sumbu baru yang berwarna merah telah dibuat dan diplot di grafik 2D sedemikian \n",
    "rupa sehingga memaksimalkan jarak antara rata-rata (mean) dari kedua kelas dan meminimalkan varian dari setiap kelas. \n",
    "Dengan kata lain, sumbu ini meningkatkan pemisahan titik-titik data dari kedua kelas. Setelah membuat sumbu baru dengan\n",
    "kriteria yang telah disebutkan di atas, semua titik-titik data kemudian diplot pada sumbu baru seperti tampak pada gambar \n",
    "di sebelah kanan.\n",
    "\n",
    "t-Distributed Stochastic Neighbor Embedding atau sering disebut t-SNE dikembangkan oleh Laurens van der Maaten dan Geoffrey Hinton \n",
    "pada tahun 2008. t-SNE adalah teknik non linear unsupervised yang digunakan untuk reduksi dimensi, \n",
    "eksplorasi data, dan visualisasi data berdimensi tinggi. \n",
    "'''"
   ]
  },
  {
   "cell_type": "markdown",
   "metadata": {},
   "source": [
    "# Support Vector Machine (SVM) "
   ]
  },
  {
   "cell_type": "code",
   "execution_count": null,
   "metadata": {},
   "outputs": [],
   "source": [
    "'''\n",
    "Beberapa keunggulan Support Vector Machine antara lain:\n",
    "SVM efektif pada data berdimensi tinggi (data dengan jumlah fitur atau atribut yang sangat banyak).\n",
    "SVM efektif pada kasus di mana jumlah fitur pada data lebih besar dari jumlah sampel.\n",
    "SVM menggunakan subset poin pelatihan dalam fungsi keputusan (disebut support vector) sehingga membuat penggunaan memori menjadi lebih efisien.                 \n",
    "Pada modul ini kita akan belajar tentang bagaimana Support Vector Machine dapat menyelesaikan permasalahan klasifikasi dan regresi.\n",
    "'''"
   ]
  },
  {
   "cell_type": "markdown",
   "metadata": {},
   "source": [
    "# Support Vector Regression (SVR)"
   ]
  },
  {
   "cell_type": "code",
   "execution_count": null,
   "metadata": {},
   "outputs": [],
   "source": [
    "'''\n",
    "Support Vector Regression (SVR) adalah metode yang digunakan untuk prediksi data kontinu dalam kasus regresi. SVR menggunakan prinsip yang sama dengan Support Vector Machine (SVM) pada kasus klasifikasi. Perbedaannya adalah, jika SVM mencari jalan terbesar untuk memisahkan sampel-sampel dari kelas berbeda, SVR mencari jalan yang dapat menampung sebanyak mungkin sampel di dalamnya.\n",
    "Pada SVR, terdapat dua model regresi SVM linier yang dilatih pada data linier acak. Salah satu model memiliki margin besar, sedangkan yang lain memiliki margin kecil. Lebar jalan ini dikontrol oleh hyperparameter ϵ atau maksimum eror. Menambahkan data training ke dalam margin tidak akan mempengaruhi prediksi model, sehingga model disebut sebagai ϵ-insensitivity.\n",
    "Berbeda dengan SVM, di mana support vector adalah dua sampel dari dua kelas berbeda yang memiliki jarak paling dekat, pada SVR support vector adalah sampel yang menjadi pembatas jalan yang dapat menampung seluruh sampel pada data.\n",
    "Pada implementasi SVR untuk kasus prediksi harga rumah di Boston, kita akan membandingkan hasilnya dengan regresi linear sederhana. Ukuran performa yang digunakan adalah Root Mean Square Error (RMSE), yang memberikan gambaran tentang tingkat kesalahan prediksi yang seminimal mungkin.\n",
    "'''"
   ]
  },
  {
   "cell_type": "markdown",
   "metadata": {},
   "source": [
    "# Machine Learning Workflow"
   ]
  },
  {
   "cell_type": "code",
   "execution_count": null,
   "metadata": {},
   "outputs": [],
   "source": [
    "'''\n",
    "dalam workflow machine learning. Tahapan-tahapan tersebut meliputi \n",
    "pengumpulan data, exploratory data analysis, data preprocessing, dan pemilihan model. \n",
    "Tahapan ini dilakukan secara iteratif dan bisa berulang sesuai kebutuhan. Proses pengumpulan data bisa melibatkan berbagai sumber dan jenis tipe data. EDA dilakukan untuk menganalisis data secara awal dan menemukan pola serta anomali. Data preprocessing melibatkan proses cleaning dan transformation data. Terakhir, \n",
    "pemilihan model dilakukan untuk memilih model yang paling sesuai untuk digunakan dalam pengembangan machine learning.\n",
    "'''"
   ]
  },
  {
   "cell_type": "markdown",
   "metadata": {},
   "source": [
    "# Machine Learning Use Case"
   ]
  },
  {
   "cell_type": "code",
   "execution_count": null,
   "metadata": {},
   "outputs": [],
   "source": [
    "'''\n",
    "ML dan business intelligence.\n",
    "ML di bidang data analytic.\n",
    "'''"
   ]
  },
  {
   "cell_type": "markdown",
   "metadata": {},
   "source": [
    "# Overfitting dan Underfitting"
   ]
  },
  {
   "cell_type": "code",
   "execution_count": null,
   "metadata": {},
   "outputs": [],
   "source": [
    "'''\n",
    "Model ML yang baik adalah model yang tidak underfit atau overfit. \n",
    "Overfitting terjadi ketika model memiliki prediksi yang baik pada data training tetapi buruk pada data testing. \n",
    "Contohnya, model yang overfit untuk mengenali gambar anjing akan menganggap setiap hewan berwarna hitam sebagai anjing. \n",
    "Untuk menghindari overfitting, dapat memilih model yang lebih sederhana, mengurangi dimensi data, \n",
    "atau menambahkan data pelatihan. Underfitting terjadi ketika model terlalu sederhana dan tidak dapat menyesuaikan pola \n",
    "pada data latih. Untuk menghindari underfitting,\n",
    "dapat menggunakan model yang lebih kompleks atau menambahkan fitur baru.\n",
    "'''"
   ]
  },
  {
   "cell_type": "markdown",
   "metadata": {},
   "source": [
    "# Model Selection"
   ]
  },
  {
   "cell_type": "code",
   "execution_count": null,
   "metadata": {},
   "outputs": [],
   "source": [
    "'''\n",
    "Berbagai model machine learning dari library SKLearn memiliki parameter-parameter yang bisa kita ubah untuk meningkatkan \n",
    "performa dari sebuah model tersebut. \n",
    "Contohnya pada decision tree terdapat beberapa parameter seperti di bawah. \n",
    "Kalau Anda tertarik mengetahui berbagai jenis model machine learning dan parameter setiap model tersebut\n",
    "\n",
    "Berbagai model machine learning dari library SKLearn memiliki parameter-parameter yang bisa kita ubah untuk meningkatkan performa dari sebuah model tersebut. \n",
    "Contohnya pada decision tree terdapat beberapa parameter seperti di bawah. \n",
    "Kalau Anda tertarik mengetahui berbagai jenis model machine learning dan parameter setiap model tersebut\n",
    "\n",
    "Grid search memungkinkan kita menguji beberapa parameter sekaligus pada sebuah model. \n",
    "Contohnya kita bisa menguji beberapa jumlah cluster untuk sebuah model K-Means dan melihat bagaimana performa model \n",
    "K-Means terhadap nilai K yang berbeda. \n",
    "Untuk lebih memahami grid search, kita akan mencoba grid search menggunakan SKLearn.\n",
    "'''"
   ]
  },
  {
   "cell_type": "markdown",
   "metadata": {},
   "source": [
    "# Menambah atau Mengurangi Fitur"
   ]
  },
  {
   "cell_type": "code",
   "execution_count": 1,
   "metadata": {},
   "outputs": [
    {
     "name": "stdout",
     "output_type": "stream",
     "text": [
      "Machine Learning Developer di Indonesia :\n",
      "                Name  Age\n",
      "0  Isyana Saraswati   30\n",
      "1  Nicholas Saputra   36\n",
      "2    Raisa Andriana   32\n",
      "\n",
      " Split kolom 'Name', lalu tambahkan kedua kolom : \n",
      "                Name  Age     First       Last\n",
      "0  Isyana Saraswati   30    Isyana  Saraswati\n",
      "1  Nicholas Saputra   36  Nicholas    Saputra\n",
      "2    Raisa Andriana   32     Raisa   Andriana\n"
     ]
    }
   ],
   "source": [
    "'''\n",
    "Andrew Ng, seorang profesor kecerdasan buatan dari Stanford, \n",
    "mengatakan bahwa menciptakan fitur-fitur yang baik adalah pekerjaan yang sulit dan memakan waktu. \n",
    "Rekayasa fitur adalah salah satu tahapan yang memakan banyak waktu dalam machine learning terapan. \n",
    "Binning adalah salah satu teknik dalam rekayasa fitur di mana data dikelompokkan sesuai dengan batas besaran yang \n",
    "ditentukan. Binning dapat membantu menghindari overfitting, tetapi juga mengorbankan informasi yang terkandung dalam \n",
    "atribut. Selain itu, splitting juga merupakan cara yang berguna untuk memisahkan atribut menjadi atribut-atribut baru \n",
    "untuk memudahkan pemahaman oleh model machine learning. \n",
    "Ada beberapa cara untuk melakukan splitting, \n",
    "tergantung pada jenis data yang ada.\n",
    "'''\n",
    "import pandas as pd \n",
    "Developer = pd.DataFrame({'Name': ['Isyana Saraswati', 'Nicholas Saputra', 'Raisa Andriana'], \n",
    "        'Age':[30, 36, 32]}) \n",
    "print(\"Machine Learning Developer di Indonesia :\\n\", Developer)  \n",
    "Developer[['First','Last']] = Developer.Name.str.split(expand=True) \n",
    "print(\"\\n Split kolom 'Name', lalu tambahkan kedua kolom : \\n\", Developer)\n",
    "\n",
    "\n"
   ]
  },
  {
   "cell_type": "markdown",
   "metadata": {},
   "source": [
    "# Artificial Neural Network"
   ]
  },
  {
   "cell_type": "code",
   "execution_count": null,
   "metadata": {},
   "outputs": [],
   "source": [
    "'''\n",
    "Penemu sering mencari inspirasi dari alam dan fenomena sehari-hari, seperti pesawat terbang yang terinspirasi oleh burung pada tahun 1904 dan kapal selam Inggris yang meniru bentuk paus, belut, dan ikan pari manta. Jaringan Saraf Tiruan (ANN) adalah model machine learning yang terinspirasi dari neuron/saraf pada otak manusia, \n",
    "yang sangat ideal digunakan dalam menangani masalah ML yang kompleks. Sebuah saraf terdiri dari 3 bagian utama, yaitu akson, dendrit, dan badan sel yang di dalamnya terdapat nukleus. \n",
    "Perceptron adalah komponen dasar pembangun jaringan saraf tiruan yang menerima masukan numerik dan menghasilkan keluaran.\n",
    "'''"
   ]
  }
 ],
 "metadata": {
  "kernelspec": {
   "display_name": "Python 3",
   "language": "python",
   "name": "python3"
  },
  "language_info": {
   "codemirror_mode": {
    "name": "ipython",
    "version": 3
   },
   "file_extension": ".py",
   "mimetype": "text/x-python",
   "name": "python",
   "nbconvert_exporter": "python",
   "pygments_lexer": "ipython3",
   "version": "3.12.0"
  }
 },
 "nbformat": 4,
 "nbformat_minor": 2
}
